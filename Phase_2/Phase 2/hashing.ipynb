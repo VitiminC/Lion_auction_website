{
 "cells": [
  {
   "cell_type": "code",
   "execution_count": 1,
   "id": "96a177b8",
   "metadata": {},
   "outputs": [],
   "source": [
    "import pandas as pd\n",
    "import hashlib"
   ]
  },
  {
   "cell_type": "code",
   "execution_count": 2,
   "id": "b697e71c",
   "metadata": {},
   "outputs": [
    {
     "data": {
      "text/html": [
       "<div>\n",
       "<style scoped>\n",
       "    .dataframe tbody tr th:only-of-type {\n",
       "        vertical-align: middle;\n",
       "    }\n",
       "\n",
       "    .dataframe tbody tr th {\n",
       "        vertical-align: top;\n",
       "    }\n",
       "\n",
       "    .dataframe thead th {\n",
       "        text-align: right;\n",
       "    }\n",
       "</style>\n",
       "<table border=\"1\" class=\"dataframe\">\n",
       "  <thead>\n",
       "    <tr style=\"text-align: right;\">\n",
       "      <th></th>\n",
       "      <th>email</th>\n",
       "      <th>password</th>\n",
       "      <th>hashed_password</th>\n",
       "    </tr>\n",
       "  </thead>\n",
       "  <tbody>\n",
       "    <tr>\n",
       "      <th>0</th>\n",
       "      <td>arubertelli0@lsu.edu</td>\n",
       "      <td>TbIF16hoUqGl</td>\n",
       "      <td>0</td>\n",
       "    </tr>\n",
       "    <tr>\n",
       "      <th>1</th>\n",
       "      <td>tdoveston1@lsu.edu</td>\n",
       "      <td>MatRuyGWLOmh</td>\n",
       "      <td>0</td>\n",
       "    </tr>\n",
       "    <tr>\n",
       "      <th>2</th>\n",
       "      <td>alemar2@lsu.edu</td>\n",
       "      <td>KFk6Uy</td>\n",
       "      <td>0</td>\n",
       "    </tr>\n",
       "    <tr>\n",
       "      <th>3</th>\n",
       "      <td>igetley3@lsu.edu</td>\n",
       "      <td>ZCA97uHj</td>\n",
       "      <td>0</td>\n",
       "    </tr>\n",
       "    <tr>\n",
       "      <th>4</th>\n",
       "      <td>fenrrico4@lsu.edu</td>\n",
       "      <td>urRQvgaHt</td>\n",
       "      <td>0</td>\n",
       "    </tr>\n",
       "    <tr>\n",
       "      <th>...</th>\n",
       "      <td>...</td>\n",
       "      <td>...</td>\n",
       "      <td>...</td>\n",
       "    </tr>\n",
       "    <tr>\n",
       "      <th>5995</th>\n",
       "      <td>gboutellierrn@domainmarket.com</td>\n",
       "      <td>3ZnNrQz</td>\n",
       "      <td>0</td>\n",
       "    </tr>\n",
       "    <tr>\n",
       "      <th>5996</th>\n",
       "      <td>fgrasonro@nih.gov</td>\n",
       "      <td>fzVIJH9gbbo</td>\n",
       "      <td>0</td>\n",
       "    </tr>\n",
       "    <tr>\n",
       "      <th>5997</th>\n",
       "      <td>tpatzeltrp@zimbio.com</td>\n",
       "      <td>ggsJ4ZpCR</td>\n",
       "      <td>0</td>\n",
       "    </tr>\n",
       "    <tr>\n",
       "      <th>5998</th>\n",
       "      <td>mgoodwinrq@blogspot.com</td>\n",
       "      <td>hXJvo67MEP</td>\n",
       "      <td>0</td>\n",
       "    </tr>\n",
       "    <tr>\n",
       "      <th>5999</th>\n",
       "      <td>bdimockrr@smugmug.com</td>\n",
       "      <td>LDG9rGGtQRgz</td>\n",
       "      <td>0</td>\n",
       "    </tr>\n",
       "  </tbody>\n",
       "</table>\n",
       "<p>6000 rows × 3 columns</p>\n",
       "</div>"
      ],
      "text/plain": [
       "                               email      password  hashed_password\n",
       "0               arubertelli0@lsu.edu  TbIF16hoUqGl                0\n",
       "1                 tdoveston1@lsu.edu  MatRuyGWLOmh                0\n",
       "2                    alemar2@lsu.edu        KFk6Uy                0\n",
       "3                   igetley3@lsu.edu      ZCA97uHj                0\n",
       "4                  fenrrico4@lsu.edu     urRQvgaHt                0\n",
       "...                              ...           ...              ...\n",
       "5995  gboutellierrn@domainmarket.com       3ZnNrQz                0\n",
       "5996               fgrasonro@nih.gov   fzVIJH9gbbo                0\n",
       "5997           tpatzeltrp@zimbio.com     ggsJ4ZpCR                0\n",
       "5998         mgoodwinrq@blogspot.com    hXJvo67MEP                0\n",
       "5999           bdimockrr@smugmug.com  LDG9rGGtQRgz                0\n",
       "\n",
       "[6000 rows x 3 columns]"
      ]
     },
     "execution_count": 2,
     "metadata": {},
     "output_type": "execute_result"
    }
   ],
   "source": [
    "user_table = pd.read_csv('Users.csv',encoding='utf-8')\n",
    "user_table['hashed_password'] = 0\n",
    "user_table"
   ]
  },
  {
   "cell_type": "code",
   "execution_count": 3,
   "id": "23931a22",
   "metadata": {},
   "outputs": [
    {
     "name": "stdout",
     "output_type": "stream",
     "text": [
      "a94a8fe5ccb19ba61c4c0873d391e987982fbbd3\n"
     ]
    }
   ],
   "source": [
    "text = 'test'\n",
    "text = text.encode('utf-8')\n",
    "s = hashlib.sha1(text)\n",
    "str_hex = s.hexdigest()\n",
    "print(str_hex)"
   ]
  },
  {
   "cell_type": "code",
   "execution_count": 4,
   "id": "9d5452a3",
   "metadata": {},
   "outputs": [
    {
     "name": "stderr",
     "output_type": "stream",
     "text": [
      "C:\\Users\\Charlie\\AppData\\Local\\Temp\\ipykernel_3760\\1980796453.py:6: SettingWithCopyWarning: \n",
      "A value is trying to be set on a copy of a slice from a DataFrame\n",
      "\n",
      "See the caveats in the documentation: https://pandas.pydata.org/pandas-docs/stable/user_guide/indexing.html#returning-a-view-versus-a-copy\n",
      "  user_table['hashed_password'][i] = s_hex\n"
     ]
    }
   ],
   "source": [
    "for i in range(len(user_table)):\n",
    "    s = str(user_table['password'][i])\n",
    "    s = s.encode('utf-8')\n",
    "    s = hashlib.sha1(s)\n",
    "    s_hex = s.hexdigest()\n",
    "    user_table['hashed_password'][i] = s_hex\n",
    "    "
   ]
  },
  {
   "cell_type": "code",
   "execution_count": 5,
   "id": "e2649f83",
   "metadata": {},
   "outputs": [],
   "source": [
    "user_table.to_csv(f'user_hashed.csv', index=False)"
   ]
  },
  {
   "cell_type": "code",
   "execution_count": null,
   "id": "cc0ca708",
   "metadata": {},
   "outputs": [],
   "source": []
  }
 ],
 "metadata": {
  "kernelspec": {
   "display_name": "Python 3 (ipykernel)",
   "language": "python",
   "name": "python3"
  },
  "language_info": {
   "codemirror_mode": {
    "name": "ipython",
    "version": 3
   },
   "file_extension": ".py",
   "mimetype": "text/x-python",
   "name": "python",
   "nbconvert_exporter": "python",
   "pygments_lexer": "ipython3",
   "version": "3.9.13"
  }
 },
 "nbformat": 4,
 "nbformat_minor": 5
}
